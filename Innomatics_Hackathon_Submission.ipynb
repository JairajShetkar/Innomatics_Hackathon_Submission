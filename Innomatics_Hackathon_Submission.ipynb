{
 "cells": [
  {
   "cell_type": "markdown",
   "id": "8ec99658",
   "metadata": {},
   "source": [
    "# INNOMATICS INTERNSHIP HACKATHON\n",
    "## Movie Recommendation System\n",
    "## Submitted by:\n",
    "### Jairaj Shetkar\n",
    "### email: shetkarjairaj@gmail.com\n",
    "### Mobile Number: +91 7773943531\n",
    "### Address: Pune, Maharashtra - 411023"
   ]
  },
  {
   "cell_type": "markdown",
   "id": "eee0d5c1",
   "metadata": {},
   "source": [
    "### Note: All the below steps has been performed in a sequence of the questions asked in the Hackathon!"
   ]
  },
  {
   "cell_type": "code",
   "execution_count": 1,
   "id": "893cbe3c",
   "metadata": {},
   "outputs": [],
   "source": [
    "import pandas as pd\n",
    "import numpy as np\n",
    "import matplotlib.pyplot as plt\n",
    "import seaborn as sns"
   ]
  },
  {
   "cell_type": "markdown",
   "id": "d9eb08a1",
   "metadata": {},
   "source": [
    "### Answer of Question 2"
   ]
  },
  {
   "cell_type": "code",
   "execution_count": 2,
   "id": "85290030",
   "metadata": {},
   "outputs": [],
   "source": [
    "movies_df = pd.read_csv('movies.csv')"
   ]
  },
  {
   "cell_type": "code",
   "execution_count": 3,
   "id": "d8418189",
   "metadata": {},
   "outputs": [
    {
     "data": {
      "text/html": [
       "<div>\n",
       "<style scoped>\n",
       "    .dataframe tbody tr th:only-of-type {\n",
       "        vertical-align: middle;\n",
       "    }\n",
       "\n",
       "    .dataframe tbody tr th {\n",
       "        vertical-align: top;\n",
       "    }\n",
       "\n",
       "    .dataframe thead th {\n",
       "        text-align: right;\n",
       "    }\n",
       "</style>\n",
       "<table border=\"1\" class=\"dataframe\">\n",
       "  <thead>\n",
       "    <tr style=\"text-align: right;\">\n",
       "      <th></th>\n",
       "      <th>movieId</th>\n",
       "      <th>title</th>\n",
       "      <th>genres</th>\n",
       "    </tr>\n",
       "  </thead>\n",
       "  <tbody>\n",
       "    <tr>\n",
       "      <th>0</th>\n",
       "      <td>1</td>\n",
       "      <td>Toy Story (1995)</td>\n",
       "      <td>Adventure|Animation|Children|Comedy|Fantasy</td>\n",
       "    </tr>\n",
       "    <tr>\n",
       "      <th>1</th>\n",
       "      <td>2</td>\n",
       "      <td>Jumanji (1995)</td>\n",
       "      <td>Adventure|Children|Fantasy</td>\n",
       "    </tr>\n",
       "    <tr>\n",
       "      <th>2</th>\n",
       "      <td>3</td>\n",
       "      <td>Grumpier Old Men (1995)</td>\n",
       "      <td>Comedy|Romance</td>\n",
       "    </tr>\n",
       "    <tr>\n",
       "      <th>3</th>\n",
       "      <td>4</td>\n",
       "      <td>Waiting to Exhale (1995)</td>\n",
       "      <td>Comedy|Drama|Romance</td>\n",
       "    </tr>\n",
       "    <tr>\n",
       "      <th>4</th>\n",
       "      <td>5</td>\n",
       "      <td>Father of the Bride Part II (1995)</td>\n",
       "      <td>Comedy</td>\n",
       "    </tr>\n",
       "  </tbody>\n",
       "</table>\n",
       "</div>"
      ],
      "text/plain": [
       "   movieId                               title  \\\n",
       "0        1                    Toy Story (1995)   \n",
       "1        2                      Jumanji (1995)   \n",
       "2        3             Grumpier Old Men (1995)   \n",
       "3        4            Waiting to Exhale (1995)   \n",
       "4        5  Father of the Bride Part II (1995)   \n",
       "\n",
       "                                        genres  \n",
       "0  Adventure|Animation|Children|Comedy|Fantasy  \n",
       "1                   Adventure|Children|Fantasy  \n",
       "2                               Comedy|Romance  \n",
       "3                         Comedy|Drama|Romance  \n",
       "4                                       Comedy  "
      ]
     },
     "execution_count": 3,
     "metadata": {},
     "output_type": "execute_result"
    }
   ],
   "source": [
    "movies_df.head()"
   ]
  },
  {
   "cell_type": "code",
   "execution_count": 4,
   "id": "4786e8e6",
   "metadata": {},
   "outputs": [],
   "source": [
    "shape = movies_df.shape"
   ]
  },
  {
   "cell_type": "code",
   "execution_count": 5,
   "id": "b158032f",
   "metadata": {},
   "outputs": [
    {
     "name": "stdout",
     "output_type": "stream",
     "text": [
      "(9742, 3)\n"
     ]
    }
   ],
   "source": [
    "print(shape)"
   ]
  },
  {
   "cell_type": "markdown",
   "id": "a1be4b39",
   "metadata": {},
   "source": [
    "### Answer of Question 3"
   ]
  },
  {
   "cell_type": "code",
   "execution_count": 6,
   "id": "7c782b34",
   "metadata": {},
   "outputs": [],
   "source": [
    "ratings_df = pd.read_csv('ratings.csv')"
   ]
  },
  {
   "cell_type": "code",
   "execution_count": 7,
   "id": "0507f364",
   "metadata": {},
   "outputs": [
    {
     "data": {
      "text/html": [
       "<div>\n",
       "<style scoped>\n",
       "    .dataframe tbody tr th:only-of-type {\n",
       "        vertical-align: middle;\n",
       "    }\n",
       "\n",
       "    .dataframe tbody tr th {\n",
       "        vertical-align: top;\n",
       "    }\n",
       "\n",
       "    .dataframe thead th {\n",
       "        text-align: right;\n",
       "    }\n",
       "</style>\n",
       "<table border=\"1\" class=\"dataframe\">\n",
       "  <thead>\n",
       "    <tr style=\"text-align: right;\">\n",
       "      <th></th>\n",
       "      <th>userId</th>\n",
       "      <th>movieId</th>\n",
       "      <th>rating</th>\n",
       "      <th>timestamp</th>\n",
       "    </tr>\n",
       "  </thead>\n",
       "  <tbody>\n",
       "    <tr>\n",
       "      <th>0</th>\n",
       "      <td>1</td>\n",
       "      <td>1</td>\n",
       "      <td>4.0</td>\n",
       "      <td>964982703</td>\n",
       "    </tr>\n",
       "    <tr>\n",
       "      <th>1</th>\n",
       "      <td>1</td>\n",
       "      <td>3</td>\n",
       "      <td>4.0</td>\n",
       "      <td>964981247</td>\n",
       "    </tr>\n",
       "    <tr>\n",
       "      <th>2</th>\n",
       "      <td>1</td>\n",
       "      <td>6</td>\n",
       "      <td>4.0</td>\n",
       "      <td>964982224</td>\n",
       "    </tr>\n",
       "    <tr>\n",
       "      <th>3</th>\n",
       "      <td>1</td>\n",
       "      <td>47</td>\n",
       "      <td>5.0</td>\n",
       "      <td>964983815</td>\n",
       "    </tr>\n",
       "    <tr>\n",
       "      <th>4</th>\n",
       "      <td>1</td>\n",
       "      <td>50</td>\n",
       "      <td>5.0</td>\n",
       "      <td>964982931</td>\n",
       "    </tr>\n",
       "  </tbody>\n",
       "</table>\n",
       "</div>"
      ],
      "text/plain": [
       "   userId  movieId  rating  timestamp\n",
       "0       1        1     4.0  964982703\n",
       "1       1        3     4.0  964981247\n",
       "2       1        6     4.0  964982224\n",
       "3       1       47     5.0  964983815\n",
       "4       1       50     5.0  964982931"
      ]
     },
     "execution_count": 7,
     "metadata": {},
     "output_type": "execute_result"
    }
   ],
   "source": [
    "ratings_df.head()"
   ]
  },
  {
   "cell_type": "code",
   "execution_count": 8,
   "id": "b8d9eefb",
   "metadata": {},
   "outputs": [
    {
     "name": "stdout",
     "output_type": "stream",
     "text": [
      "(100836, 4)\n"
     ]
    }
   ],
   "source": [
    "shape = ratings_df.shape\n",
    "print(shape)"
   ]
  },
  {
   "cell_type": "markdown",
   "id": "0a67796e",
   "metadata": {},
   "source": [
    "### Answer of Question 4"
   ]
  },
  {
   "cell_type": "code",
   "execution_count": 9,
   "id": "3b3a6328",
   "metadata": {},
   "outputs": [],
   "source": [
    "unique_users = ratings_df['userId'].nunique()"
   ]
  },
  {
   "cell_type": "code",
   "execution_count": 10,
   "id": "e2d5570b",
   "metadata": {},
   "outputs": [
    {
     "name": "stdout",
     "output_type": "stream",
     "text": [
      "610\n"
     ]
    }
   ],
   "source": [
    "print(unique_users)"
   ]
  },
  {
   "cell_type": "markdown",
   "id": "5fbc1e2b",
   "metadata": {},
   "source": [
    "### Answer of Question 5"
   ]
  },
  {
   "cell_type": "code",
   "execution_count": 11,
   "id": "16d5cda1",
   "metadata": {},
   "outputs": [],
   "source": [
    "movie_ratings_count = ratings_df.groupby('movieId')['rating'].count()"
   ]
  },
  {
   "cell_type": "code",
   "execution_count": 12,
   "id": "3af4f6e8",
   "metadata": {},
   "outputs": [],
   "source": [
    "# let's find the movie with the maximum number of ratings:\n",
    "max_rated_movie_id = movie_ratings_count.idxmax()\n",
    "\n",
    "# store it in a variable!\n",
    "max_rated_movie = movies_df.loc[movies_df['movieId'] == max_rated_movie_id, 'title'].values[0]"
   ]
  },
  {
   "cell_type": "code",
   "execution_count": 13,
   "id": "0058c229",
   "metadata": {},
   "outputs": [
    {
     "name": "stdout",
     "output_type": "stream",
     "text": [
      "The Highes rated movie is: Forrest Gump (1994)\n"
     ]
    }
   ],
   "source": [
    "print(\"The Highes rated movie is:\",max_rated_movie)"
   ]
  },
  {
   "cell_type": "markdown",
   "id": "2dbe8fb6",
   "metadata": {},
   "source": [
    "### Answer of Question 6"
   ]
  },
  {
   "cell_type": "code",
   "execution_count": 14,
   "id": "7bc2628c",
   "metadata": {},
   "outputs": [],
   "source": [
    "# Now lets import tags dataset\n",
    "tags_df = pd.read_csv('tags.csv')"
   ]
  },
  {
   "cell_type": "code",
   "execution_count": 15,
   "id": "58fa69d0",
   "metadata": {},
   "outputs": [
    {
     "data": {
      "text/html": [
       "<div>\n",
       "<style scoped>\n",
       "    .dataframe tbody tr th:only-of-type {\n",
       "        vertical-align: middle;\n",
       "    }\n",
       "\n",
       "    .dataframe tbody tr th {\n",
       "        vertical-align: top;\n",
       "    }\n",
       "\n",
       "    .dataframe thead th {\n",
       "        text-align: right;\n",
       "    }\n",
       "</style>\n",
       "<table border=\"1\" class=\"dataframe\">\n",
       "  <thead>\n",
       "    <tr style=\"text-align: right;\">\n",
       "      <th></th>\n",
       "      <th>userId</th>\n",
       "      <th>movieId</th>\n",
       "      <th>tag</th>\n",
       "      <th>timestamp</th>\n",
       "    </tr>\n",
       "  </thead>\n",
       "  <tbody>\n",
       "    <tr>\n",
       "      <th>0</th>\n",
       "      <td>2</td>\n",
       "      <td>60756</td>\n",
       "      <td>funny</td>\n",
       "      <td>1445714994</td>\n",
       "    </tr>\n",
       "    <tr>\n",
       "      <th>1</th>\n",
       "      <td>2</td>\n",
       "      <td>60756</td>\n",
       "      <td>Highly quotable</td>\n",
       "      <td>1445714996</td>\n",
       "    </tr>\n",
       "    <tr>\n",
       "      <th>2</th>\n",
       "      <td>2</td>\n",
       "      <td>60756</td>\n",
       "      <td>will ferrell</td>\n",
       "      <td>1445714992</td>\n",
       "    </tr>\n",
       "    <tr>\n",
       "      <th>3</th>\n",
       "      <td>2</td>\n",
       "      <td>89774</td>\n",
       "      <td>Boxing story</td>\n",
       "      <td>1445715207</td>\n",
       "    </tr>\n",
       "    <tr>\n",
       "      <th>4</th>\n",
       "      <td>2</td>\n",
       "      <td>89774</td>\n",
       "      <td>MMA</td>\n",
       "      <td>1445715200</td>\n",
       "    </tr>\n",
       "  </tbody>\n",
       "</table>\n",
       "</div>"
      ],
      "text/plain": [
       "   userId  movieId              tag   timestamp\n",
       "0       2    60756            funny  1445714994\n",
       "1       2    60756  Highly quotable  1445714996\n",
       "2       2    60756     will ferrell  1445714992\n",
       "3       2    89774     Boxing story  1445715207\n",
       "4       2    89774              MMA  1445715200"
      ]
     },
     "execution_count": 15,
     "metadata": {},
     "output_type": "execute_result"
    }
   ],
   "source": [
    "tags_df.head()"
   ]
  },
  {
   "cell_type": "code",
   "execution_count": 16,
   "id": "3a60e2cf",
   "metadata": {},
   "outputs": [
    {
     "data": {
      "text/html": [
       "<div>\n",
       "<style scoped>\n",
       "    .dataframe tbody tr th:only-of-type {\n",
       "        vertical-align: middle;\n",
       "    }\n",
       "\n",
       "    .dataframe tbody tr th {\n",
       "        vertical-align: top;\n",
       "    }\n",
       "\n",
       "    .dataframe thead th {\n",
       "        text-align: right;\n",
       "    }\n",
       "</style>\n",
       "<table border=\"1\" class=\"dataframe\">\n",
       "  <thead>\n",
       "    <tr style=\"text-align: right;\">\n",
       "      <th></th>\n",
       "      <th>userId</th>\n",
       "      <th>movieId</th>\n",
       "      <th>timestamp</th>\n",
       "    </tr>\n",
       "  </thead>\n",
       "  <tbody>\n",
       "    <tr>\n",
       "      <th>count</th>\n",
       "      <td>3683.000000</td>\n",
       "      <td>3683.000000</td>\n",
       "      <td>3.683000e+03</td>\n",
       "    </tr>\n",
       "    <tr>\n",
       "      <th>mean</th>\n",
       "      <td>431.149335</td>\n",
       "      <td>27252.013576</td>\n",
       "      <td>1.320032e+09</td>\n",
       "    </tr>\n",
       "    <tr>\n",
       "      <th>std</th>\n",
       "      <td>158.472553</td>\n",
       "      <td>43490.558803</td>\n",
       "      <td>1.721025e+08</td>\n",
       "    </tr>\n",
       "    <tr>\n",
       "      <th>min</th>\n",
       "      <td>2.000000</td>\n",
       "      <td>1.000000</td>\n",
       "      <td>1.137179e+09</td>\n",
       "    </tr>\n",
       "    <tr>\n",
       "      <th>25%</th>\n",
       "      <td>424.000000</td>\n",
       "      <td>1262.500000</td>\n",
       "      <td>1.137521e+09</td>\n",
       "    </tr>\n",
       "    <tr>\n",
       "      <th>50%</th>\n",
       "      <td>474.000000</td>\n",
       "      <td>4454.000000</td>\n",
       "      <td>1.269833e+09</td>\n",
       "    </tr>\n",
       "    <tr>\n",
       "      <th>75%</th>\n",
       "      <td>477.000000</td>\n",
       "      <td>39263.000000</td>\n",
       "      <td>1.498457e+09</td>\n",
       "    </tr>\n",
       "    <tr>\n",
       "      <th>max</th>\n",
       "      <td>610.000000</td>\n",
       "      <td>193565.000000</td>\n",
       "      <td>1.537099e+09</td>\n",
       "    </tr>\n",
       "  </tbody>\n",
       "</table>\n",
       "</div>"
      ],
      "text/plain": [
       "            userId        movieId     timestamp\n",
       "count  3683.000000    3683.000000  3.683000e+03\n",
       "mean    431.149335   27252.013576  1.320032e+09\n",
       "std     158.472553   43490.558803  1.721025e+08\n",
       "min       2.000000       1.000000  1.137179e+09\n",
       "25%     424.000000    1262.500000  1.137521e+09\n",
       "50%     474.000000    4454.000000  1.269833e+09\n",
       "75%     477.000000   39263.000000  1.498457e+09\n",
       "max     610.000000  193565.000000  1.537099e+09"
      ]
     },
     "execution_count": 16,
     "metadata": {},
     "output_type": "execute_result"
    }
   ],
   "source": [
    "tags_df.describe()"
   ]
  },
  {
   "cell_type": "code",
   "execution_count": 17,
   "id": "41c0d31a",
   "metadata": {},
   "outputs": [
    {
     "data": {
      "text/plain": [
       "Index(['userId', 'movieId', 'tag', 'timestamp'], dtype='object')"
      ]
     },
     "execution_count": 17,
     "metadata": {},
     "output_type": "execute_result"
    }
   ],
   "source": [
    "tags_df.columns"
   ]
  },
  {
   "cell_type": "code",
   "execution_count": 18,
   "id": "7bea78f7",
   "metadata": {},
   "outputs": [],
   "source": [
    "# Now find the id of Matrix movie\n",
    "matrix_movie_id = movies_df.loc[movies_df['title'] == 'Matrix, The (1999)', 'movieId'].values[0]"
   ]
  },
  {
   "cell_type": "code",
   "execution_count": 19,
   "id": "6e54a938",
   "metadata": {},
   "outputs": [],
   "source": [
    "# Select the tags for the specified movieId\n",
    "matrix_tags = tags_df[tags_df['movieId'] == matrix_movie_id]['tag']"
   ]
  },
  {
   "cell_type": "code",
   "execution_count": 20,
   "id": "48ddc702",
   "metadata": {},
   "outputs": [],
   "source": [
    "# Now let's locate the tags of Matrix movie in Tags Dataset\n",
    "matrix_tags = tags_df[tags_df['movieId'] == matrix_movie_id]"
   ]
  },
  {
   "cell_type": "code",
   "execution_count": 21,
   "id": "3a7e50c3",
   "metadata": {},
   "outputs": [
    {
     "name": "stdout",
     "output_type": "stream",
     "text": [
      "Tags submitted by users for 'Matrix, The (1999)':\n",
      "martial arts\n",
      "sci-fi\n",
      "alternate universe\n",
      "philosophy\n",
      "post apocalyptic\n"
     ]
    }
   ],
   "source": [
    "# Extract and print the unique tags for \"Matrix, The (1999)\"\n",
    "unique_tags = matrix_tags['tag'].unique()\n",
    "print(\"Tags submitted by users for 'Matrix, The (1999)':\")\n",
    "for tag in unique_tags:\n",
    "    print(tag)"
   ]
  },
  {
   "cell_type": "markdown",
   "id": "9a5df472",
   "metadata": {},
   "source": [
    "#### Therefore Correct Options are: alternate universe, Philosophy and post apocalyptic"
   ]
  },
  {
   "cell_type": "markdown",
   "id": "8b249221",
   "metadata": {},
   "source": [
    "### Answer of Question 7"
   ]
  },
  {
   "cell_type": "code",
   "execution_count": 22,
   "id": "93e51b3a",
   "metadata": {},
   "outputs": [],
   "source": [
    "terminator_movie_id = movies_df.loc[movies_df['title'] == 'Terminator 2: Judgment Day (1991)', 'movieId'].values[0]"
   ]
  },
  {
   "cell_type": "code",
   "execution_count": 23,
   "id": "63f10ce8",
   "metadata": {},
   "outputs": [],
   "source": [
    "# Filter ratings for the specific movieId\n",
    "terminator_ratings = ratings_df[ratings_df['movieId'] == terminator_movie_id]"
   ]
  },
  {
   "cell_type": "code",
   "execution_count": 24,
   "id": "c944b28e",
   "metadata": {},
   "outputs": [],
   "source": [
    "# Calculate the average user rating for \"Terminator 2: Judgment Day (1991)\"\n",
    "average_rating = terminator_ratings['rating'].mean()"
   ]
  },
  {
   "cell_type": "code",
   "execution_count": 25,
   "id": "db7854d0",
   "metadata": {},
   "outputs": [
    {
     "name": "stdout",
     "output_type": "stream",
     "text": [
      "The average user rating for 'Terminator 2: Judgment Day (1991)' is: 3.97\n"
     ]
    }
   ],
   "source": [
    "print(f\"The average user rating for 'Terminator 2: Judgment Day (1991)' is: {average_rating:.2f}\")"
   ]
  },
  {
   "cell_type": "markdown",
   "id": "099f28d5",
   "metadata": {},
   "source": [
    "### Answer of Question 8"
   ]
  },
  {
   "cell_type": "code",
   "execution_count": 26,
   "id": "b3777c12",
   "metadata": {},
   "outputs": [],
   "source": [
    "fight_club_movie_id = movies_df.loc[movies_df['title'] == 'Fight Club (1999)', 'movieId'].values[0]"
   ]
  },
  {
   "cell_type": "code",
   "execution_count": 27,
   "id": "b7329dd0",
   "metadata": {},
   "outputs": [],
   "source": [
    "# Filter ratings for the specific movieId\n",
    "fight_club_ratings = ratings_df[ratings_df['movieId'] == fight_club_movie_id]"
   ]
  },
  {
   "cell_type": "code",
   "execution_count": 28,
   "id": "3bbeb958",
   "metadata": {},
   "outputs": [
    {
     "data": {
      "image/png": "[encoded data removed]",
      "text/plain": [
       "<Figure size 1000x600 with 1 Axes>"
      ]
     },
     "metadata": {},
     "output_type": "display_data"
    }
   ],
   "source": [
    "# Plotting of histogram\n",
    "plt.figure(figsize=(10, 6))\n",
    "plt.hist(fight_club_ratings['rating'], bins=5, edgecolor='black')\n",
    "plt.title('Distribution of User Ratings for Fight Club (1999)')\n",
    "plt.xlabel('Rating')\n",
    "plt.ylabel('Number of Ratings')\n",
    "plt.grid(True)\n",
    "plt.show()"
   ]
  },
  {
   "cell_type": "markdown",
   "id": "6efc0d00",
   "metadata": {},
   "source": [
    "### As we can observe the shape of histogram and conclude it is a left skewed distribution"
   ]
  },
  {
   "cell_type": "markdown",
   "id": "cc1f1602",
   "metadata": {},
   "source": [
    "### Performance of Mandatory operations:"
   ]
  },
  {
   "cell_type": "markdown",
   "id": "6bcc0ec6",
   "metadata": {},
   "source": [
    "### 1. Grouping the user ratings based on movieId, and applying aggregation operations like count and mean on ratings."
   ]
  },
  {
   "cell_type": "code",
   "execution_count": 29,
   "id": "ee2319e5",
   "metadata": {},
   "outputs": [],
   "source": [
    "grouped_ratings = ratings_df.groupby('movieId').agg({'rating': ['count', 'mean']})"
   ]
  },
  {
   "cell_type": "code",
   "execution_count": 30,
   "id": "7ce85a6e",
   "metadata": {},
   "outputs": [],
   "source": [
    "# let's Give it a new name\n",
    "grouped_ratings.columns = ['rating_count', 'rating_mean']"
   ]
  },
  {
   "cell_type": "code",
   "execution_count": 31,
   "id": "5b0ba39d",
   "metadata": {},
   "outputs": [],
   "source": [
    "# Load the \"movies.csv\" file into a DataFrame\n",
    "movies_df = pd.read_csv('movies.csv')"
   ]
  },
  {
   "cell_type": "markdown",
   "id": "e76c0366",
   "metadata": {},
   "source": [
    "#### Hence First operation Performed"
   ]
  },
  {
   "cell_type": "markdown",
   "id": "47619a6d",
   "metadata": {},
   "source": [
    "### 2. Applying inner join on dataframe created from movies.csv and the grouped df from step 1."
   ]
  },
  {
   "cell_type": "code",
   "execution_count": 32,
   "id": "e9f71470",
   "metadata": {},
   "outputs": [],
   "source": [
    "merged_df = pd.merge(movies_df, grouped_ratings, on='movieId', how='inner')"
   ]
  },
  {
   "cell_type": "markdown",
   "id": "7bd5ce6d",
   "metadata": {},
   "source": [
    "### 3. Fetching movies having rating count grater than 50."
   ]
  },
  {
   "cell_type": "code",
   "execution_count": 33,
   "id": "c047dda8",
   "metadata": {},
   "outputs": [],
   "source": [
    "# Store this result in the new data frame\n",
    "filtered_df = merged_df[merged_df['rating_count'] > 50]"
   ]
  },
  {
   "cell_type": "code",
   "execution_count": 34,
   "id": "2df9478e",
   "metadata": {},
   "outputs": [
    {
     "name": "stdout",
     "output_type": "stream",
     "text": [
      "   movieId                    title  \\\n",
      "0        1         Toy Story (1995)   \n",
      "1        2           Jumanji (1995)   \n",
      "2        3  Grumpier Old Men (1995)   \n",
      "5        6              Heat (1995)   \n",
      "6        7           Sabrina (1995)   \n",
      "\n",
      "                                        genres  rating_count  rating_mean  \n",
      "0  Adventure|Animation|Children|Comedy|Fantasy           215     3.920930  \n",
      "1                   Adventure|Children|Fantasy           110     3.431818  \n",
      "2                               Comedy|Romance            52     3.259615  \n",
      "5                        Action|Crime|Thriller           102     3.946078  \n",
      "6                               Comedy|Romance            54     3.185185  \n"
     ]
    }
   ],
   "source": [
    "print(filtered_df.head())"
   ]
  },
  {
   "cell_type": "markdown",
   "id": "145152ae",
   "metadata": {},
   "source": [
    "### Answer of Question 9"
   ]
  },
  {
   "cell_type": "code",
   "execution_count": 35,
   "id": "1f535365",
   "metadata": {},
   "outputs": [],
   "source": [
    "# Find the movie with the highest average user rating\n",
    "most_popular_movie = filtered_df.loc[filtered_df['rating_mean'].idxmax(), 'title']"
   ]
  },
  {
   "cell_type": "code",
   "execution_count": 36,
   "id": "3dac6d9d",
   "metadata": {},
   "outputs": [
    {
     "name": "stdout",
     "output_type": "stream",
     "text": [
      "The most popular movie based on average user ratings is: Shawshank Redemption, The (1994)\n"
     ]
    }
   ],
   "source": [
    "print(\"The most popular movie based on average user ratings is:\", most_popular_movie)"
   ]
  },
  {
   "cell_type": "markdown",
   "id": "e3c05616",
   "metadata": {},
   "source": [
    "### Answer of Question 10"
   ]
  },
  {
   "cell_type": "code",
   "execution_count": 37,
   "id": "807eb22a",
   "metadata": {},
   "outputs": [],
   "source": [
    "top_movies = filtered_df.sort_values(by='rating_count', ascending=False).head(5)"
   ]
  },
  {
   "cell_type": "code",
   "execution_count": 38,
   "id": "c8e21548",
   "metadata": {},
   "outputs": [
    {
     "name": "stdout",
     "output_type": "stream",
     "text": [
      "Top 5 popular movies based on number of user ratings:\n",
      "\n",
      "      movieId                             title  rating_count\n",
      "314       356               Forrest Gump (1994)           329\n",
      "277       318  Shawshank Redemption, The (1994)           317\n",
      "257       296               Pulp Fiction (1994)           307\n",
      "510       593  Silence of the Lambs, The (1991)           279\n",
      "1938     2571                Matrix, The (1999)           278\n"
     ]
    }
   ],
   "source": [
    "print(\"Top 5 popular movies based on number of user ratings:\")\n",
    "print(\"\")\n",
    "print(top_movies[['movieId', 'title', 'rating_count']])"
   ]
  },
  {
   "cell_type": "markdown",
   "id": "9c02a039",
   "metadata": {},
   "source": [
    "### Answer of Question 11"
   ]
  },
  {
   "cell_type": "code",
   "execution_count": 39,
   "id": "087bdf2b",
   "metadata": {},
   "outputs": [],
   "source": [
    "# Creating new data frame having only sci-fi movies\n",
    "sci_fi_movies = filtered_df[filtered_df['genres'].str.contains('Sci-Fi')]"
   ]
  },
  {
   "cell_type": "code",
   "execution_count": 40,
   "id": "88fd2461",
   "metadata": {},
   "outputs": [],
   "source": [
    "# Arranging in descending order \n",
    "sorted_sci_fi_movies = sci_fi_movies.sort_values(by='rating_count', ascending=False)"
   ]
  },
  {
   "cell_type": "code",
   "execution_count": 41,
   "id": "e8437d66",
   "metadata": {},
   "outputs": [],
   "source": [
    "# Finding the third highest\n",
    "third_most_popular_sci_fi_movie = sorted_sci_fi_movies.iloc[2]['title']"
   ]
  },
  {
   "cell_type": "code",
   "execution_count": 42,
   "id": "af7e520f",
   "metadata": {},
   "outputs": [
    {
     "name": "stdout",
     "output_type": "stream",
     "text": [
      "The third most popular Sci-Fi movie is: Jurassic Park (1993)\n"
     ]
    }
   ],
   "source": [
    "print(\"The third most popular Sci-Fi movie is:\", third_most_popular_sci_fi_movie)"
   ]
  },
  {
   "cell_type": "markdown",
   "id": "d17dcc2d",
   "metadata": {},
   "source": [
    "## Web Scraping Script\n",
    "### Tried my best to fill in the blanks with correct data... Since I have never done web scraping before!"
   ]
  },
  {
   "cell_type": "code",
   "execution_count": 43,
   "id": "bd14618d",
   "metadata": {},
   "outputs": [
    {
     "name": "stdout",
     "output_type": "stream",
     "text": [
      "The IMDb rating for the movie with IMDb ID 1130884 is: nan\n"
     ]
    }
   ],
   "source": [
    "import requests\n",
    "from bs4 import BeautifulSoup\n",
    "\n",
    "def scraper(imdbId):\n",
    "    id = str(int(imdbId))\n",
    "    n_zeroes = 7 - len(id)\n",
    "    new_id = \"0\"*n_zeroes + id\n",
    "    URL = f\"https://www.imdb.com/title/tt{new_id}/\"\n",
    "    request_header = {'Content-Type': 'text/html; charset=UTF-8', \n",
    "                      'User-Agent': 'Mozilla/5.0 (Windows NT 10.0; Win64; x64; rv:109.0) Gecko/20100101 Firefox/119.0', \n",
    "                      'Accept-Encoding': 'gzip, deflate, br'}\n",
    "    \n",
    "    # Using requests.get to fetch the HTML content of the IMDb page\n",
    "    response = requests.get(URL, headers=request_header)\n",
    "    \n",
    "    # Using BeautifulSoup to parse the HTML content\n",
    "    soup = BeautifulSoup(response.text, 'html.parser')\n",
    "    \n",
    "    # Extracting the IMDb rating\n",
    "    imdb_rating_tag = soup.find('span', itemprop='ratingValue')\n",
    "    imdb_rating = imdb_rating_tag.text.strip() if imdb_rating_tag else np.nan\n",
    "    \n",
    "    return imdb_rating\n",
    "\n",
    "# Example usage:\n",
    "imdb_id = \"1130884\"  # Replace with the IMDb ID of the movie you want\n",
    "rating = scraper(imdb_id)\n",
    "print(f\"The IMDb rating for the movie with IMDb ID {imdb_id} is: {rating}\")"
   ]
  },
  {
   "cell_type": "markdown",
   "id": "c3e2443a",
   "metadata": {},
   "source": [
    "### Answer of Question 12\n",
    "#### From The IMDB website we can easily get to know that \"The Shawshank Redemption\" movie has the Highest rating."
   ]
  },
  {
   "cell_type": "code",
   "execution_count": 44,
   "id": "54a94bb0",
   "metadata": {},
   "outputs": [
    {
     "name": "stdout",
     "output_type": "stream",
     "text": [
      "The movieId for 'The Shawshank Redemption (1994)' is: 318\n"
     ]
    }
   ],
   "source": [
    "# Fetching the movieId for \"The Shawshank Redemption (1994)\"\n",
    "shawshank_movie_id = movies_df.loc[movies_df['title'] == 'Shawshank Redemption, The (1994)', 'movieId'].values[0]\n",
    "\n",
    "# Print the result\n",
    "print(\"The movieId for 'The Shawshank Redemption (1994)' is:\", shawshank_movie_id)"
   ]
  },
  {
   "cell_type": "code",
   "execution_count": 45,
   "id": "59d3a1ce",
   "metadata": {},
   "outputs": [
    {
     "data": {
      "text/plain": [
       "movieId    0\n",
       "title      0\n",
       "genres     0\n",
       "dtype: int64"
      ]
     },
     "execution_count": 45,
     "metadata": {},
     "output_type": "execute_result"
    }
   ],
   "source": [
    "movies_df.isin([\"Interstellar\"]).sum()"
   ]
  },
  {
   "cell_type": "code",
   "execution_count": 46,
   "id": "0790c771",
   "metadata": {},
   "outputs": [],
   "source": [
    "# Function to get IMDb rating using the scraper\n",
    "def get_imdb_rating(movie_id):\n",
    "    imdb_id = str(int(movie_id))\n",
    "    return scraper(imdb_id)"
   ]
  },
  {
   "cell_type": "code",
   "execution_count": null,
   "id": "171820e4",
   "metadata": {},
   "outputs": [],
   "source": [
    "# Apply the function to get IMDb ratings for each movie\n",
    "filtered_df['imdb_rating'] = filtered_df['movieId'].apply(get_imdb_rating)"
   ]
  },
  {
   "cell_type": "code",
   "execution_count": null,
   "id": "e9042d25",
   "metadata": {},
   "outputs": [],
   "source": [
    "# Find the movieId with the highest IMDb rating\n",
    "highest_rated_movie_id = filtered_df.loc[filtered_df['imdb_rating'].idxmax(), 'movieId']"
   ]
  },
  {
   "cell_type": "markdown",
   "id": "20fde54b",
   "metadata": {},
   "source": [
    "### Note: Couln't find answer to last question since no experience of web scraping before and also it is not legal so never tried!...\n",
    "## But very exited to learn once I join the Internship at your esteemed organization !"
   ]
  },
  {
   "cell_type": "markdown",
   "id": "c47ee529",
   "metadata": {},
   "source": [
    "# Thank you!"
   ]
  }
 ],
 "metadata": {
  "kernelspec": {
   "display_name": "Python 3 (ipykernel)",
   "language": "python",
   "name": "python3"
  },
  "language_info": {
   "codemirror_mode": {
    "name": "ipython",
    "version": 3
   },
   "file_extension": ".py",
   "mimetype": "text/x-python",
   "name": "python",
   "nbconvert_exporter": "python",
   "pygments_lexer": "ipython3",
   "version": "3.9.13"
  }
 },
 "nbformat": 4,
 "nbformat_minor": 5
}
